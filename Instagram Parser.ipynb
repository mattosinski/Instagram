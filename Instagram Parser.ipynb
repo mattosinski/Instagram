{
 "cells": [
  {
   "cell_type": "code",
   "execution_count": 1,
   "metadata": {
    "collapsed": true
   },
   "outputs": [],
   "source": [
    "#https://stackoverflow.com/questions/18130499/how-to-scrape-instagram-with-beautifulsoup\n",
    "#for maco sx, download chrome driver - https://sites.google.com/a/chromium.org/chromedriver/downloads"
   ]
  },
  {
   "cell_type": "code",
   "execution_count": 5,
   "metadata": {
    "collapsed": false
   },
   "outputs": [],
   "source": [
    "import re\n",
    "import pandas as pd\n",
    "import time\n",
    "from selenium import webdriver\n",
    "from bs4 import BeautifulSoup\n",
    "import pandas as pd\n",
    "import datetime\n",
    "import csv\n",
    "\n",
    "URL = 'https://www.instagram.com/explore/tags/hoboken/?hl=en' #hoboken location\n",
    "\n",
    "def instaURL (URL):\n",
    "    driver = webdriver.Chrome('/Users/Matt/Downloads/chromedriver')  # Optional argument, if not specified will search path.\n",
    "    driver.get(URL);\n",
    "    #time.sleep(1) # Let the user actually see something!\n",
    "    driver.execute_script(\"window.scrollTo(0, document.body.scrollHeight);\")\n",
    "    # Click on \"Load more...\" label\n",
    "    load_more = driver.find_element_by_xpath('//*[@id=\"react-root\"]/section/main/article/div[2]/div[3]/a')\n",
    "    load_more.click()\n",
    "    #time.sleep(5)\n",
    "\n",
    "    soup = BeautifulSoup(driver.page_source)\n",
    "    #time.sleep(5) # Let the user actually see something!\n",
    "    driver.quit()\n",
    "    \n",
    "    #isolate the owner IDs from the pictures\n",
    "    stringTest=\"\"\n",
    "    for x in soup:\n",
    "        stringTest = stringTest + str(x)\n",
    "        #print x\n",
    "    pic_pattern='''(?<=\"owner\").*?(?=\"owner\")'''\n",
    "    pic = re.findall(pic_pattern, stringTest)\n",
    "    output = pic\n",
    "    return output\n"
   ]
  },
  {
   "cell_type": "code",
   "execution_count": 16,
   "metadata": {
    "collapsed": false
   },
   "outputs": [],
   "source": [
    "def parse(Source):\n",
    "    hashtagout=\"\"\n",
    "    df = pd.DataFrame()\n",
    "    ofile  = open('InstaOutput.txt', \"wb\")\n",
    "    \n",
    "    for test in Source:  \n",
    "        #print test\n",
    "        ownerID_pattern='''(?<=: {\"id\": \").*?(?=\"},)'''\n",
    "        ownerID = re.search(ownerID_pattern, test)\n",
    "        ownerID = ownerID.group(0)\n",
    "\n",
    "        video_pattern='''(?<=\"is_video\": ).*?(?=,)'''\n",
    "        video = re.search(video_pattern, test)\n",
    "        if video: video = video.group(0)\n",
    "        else: video=\"N/A\"\n",
    "\n",
    "        pictureURL_pattern='''(?<=\"display_src\": \").*?(?=\"},)'''\n",
    "        pictureURL = re.search(pictureURL_pattern, test)\n",
    "        if pictureURL: pictureURL = pictureURL.group(0)\n",
    "        else: pictureURL=\"N/A\"\n",
    "\n",
    "        date_pattern='''(?<=\"date\": ).*?(?=,)'''\n",
    "        date = re.search(date_pattern, test)\n",
    "        date = date.group(0)\n",
    "        date = datetime.datetime.fromtimestamp(int(date)).strftime('%Y-%m-%d %H:%M:%S')\n",
    "\n",
    "        commentsCount_pattern='''(?<=\"comments\": {\"count\": ).*?(?=},)'''\n",
    "        commentsCount = re.search(commentsCount_pattern, test)\n",
    "        numComments = commentsCount.group(0)\n",
    "\n",
    "        numLikes=\"N/A\"\n",
    "        likesCount_pattern='''(?<=\"likes\": {\"count\": ).*?(?=},)'''\n",
    "        likesCount = re.search(likesCount_pattern, test)\n",
    "        numLikes = likesCount.group(0)\n",
    "\n",
    "        caption_pattern='''(?<=\"caption\": \").*?(?=, \"likes\":)'''\n",
    "        caption = re.search(caption_pattern, test)\n",
    "        hashtagtext=\"N/A\"\n",
    "        if caption:\n",
    "            hashtagtext = caption.group(0)\n",
    "\n",
    "        hashtag = \"N/A\"\n",
    "        hashtag_pattern='''(?<=#).*?(?=\\W)'''\n",
    "        hashtag = re.findall(hashtag_pattern, hashtagtext)\n",
    "\n",
    "\n",
    "        #print hashtag\n",
    "        df = df.append({ 'ownerID': ownerID,\n",
    "                           'isVideo': video,\n",
    "                           'pictureURL': pictureURL,\n",
    "                           'date': date,\n",
    "                           'numComments': numComments,\n",
    "                           'numLikes': numLikes,\n",
    "                           'caption': hashtagtext,\n",
    "                        'hashtag': hashtag\n",
    "            }, ignore_index=True)\n",
    "        #additional data cleanup\n",
    "        cols = df.columns.tolist()\n",
    "        cols = ['caption',\n",
    "         'date',\n",
    "         'isVideo',\n",
    "         'numComments',\n",
    "         'numLikes', 'pictureURL', 'ownerID','hashtag']\n",
    "        df=df[cols]\n",
    "\n",
    "        #print hashtag\n",
    "\n",
    "        hashtagout=\"\"\n",
    "        for x in hashtag:\n",
    "            hashtagout += x + \"\\t\"\n",
    "\n",
    "        ofile.write(date + \"\\t\" + pictureURL +\"\\t\"+ numLikes +\"\\t\"+ \"Hoboken\"+ \"\\t\" + hashtagout + \"\\n\")\n",
    "\n",
    "        return \"Check InstaOutput.txt file for output\"\n",
    "    "
   ]
  },
  {
   "cell_type": "code",
   "execution_count": 17,
   "metadata": {
    "collapsed": false
   },
   "outputs": [
    {
     "data": {
      "text/plain": [
       "'Check InstaOutput.txt file for output'"
      ]
     },
     "execution_count": 17,
     "metadata": {},
     "output_type": "execute_result"
    }
   ],
   "source": [
    "output=instaURL(URL)\n",
    "parse(output)"
   ]
  },
  {
   "cell_type": "code",
   "execution_count": 23,
   "metadata": {
    "collapsed": false
   },
   "outputs": [],
   "source": []
  },
  {
   "cell_type": "code",
   "execution_count": null,
   "metadata": {
    "collapsed": true
   },
   "outputs": [],
   "source": []
  }
 ],
 "metadata": {
  "kernelspec": {
   "display_name": "Python 2",
   "language": "python",
   "name": "python2"
  },
  "language_info": {
   "codemirror_mode": {
    "name": "ipython",
    "version": 2
   },
   "file_extension": ".py",
   "mimetype": "text/x-python",
   "name": "python",
   "nbconvert_exporter": "python",
   "pygments_lexer": "ipython2",
   "version": "2.7.12"
  }
 },
 "nbformat": 4,
 "nbformat_minor": 0
}
